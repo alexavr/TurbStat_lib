{
 "cells": [
  {
   "cell_type": "code",
   "execution_count": 1,
   "id": "5cb1b854",
   "metadata": {},
   "outputs": [],
   "source": [
    "import ats_lib as ats"
   ]
  },
  {
   "cell_type": "code",
   "execution_count": 3,
   "id": "edb61e31",
   "metadata": {},
   "outputs": [],
   "source": [
    "frequency=20\n",
    "filename = \"./data/L0/MSU/A1/2022/09/MSU_A1_2022-09-01.nc\"\n",
    "\n",
    "# Read the data\n",
    "data_raw = ats.reader.netcdf(filename)\n",
    "data = ats.data.clean(data_raw)"
   ]
  },
  {
   "cell_type": "code",
   "execution_count": 4,
   "id": "fef5f6cb",
   "metadata": {},
   "outputs": [
    {
     "data": {
      "text/html": [
       "<div>\n",
       "<style scoped>\n",
       "    .dataframe tbody tr th:only-of-type {\n",
       "        vertical-align: middle;\n",
       "    }\n",
       "\n",
       "    .dataframe tbody tr th {\n",
       "        vertical-align: top;\n",
       "    }\n",
       "\n",
       "    .dataframe thead th {\n",
       "        text-align: right;\n",
       "    }\n",
       "</style>\n",
       "<table border=\"1\" class=\"dataframe\">\n",
       "  <thead>\n",
       "    <tr style=\"text-align: right;\">\n",
       "      <th></th>\n",
       "      <th>u</th>\n",
       "      <th>v</th>\n",
       "      <th>w</th>\n",
       "      <th>temp</th>\n",
       "    </tr>\n",
       "    <tr>\n",
       "      <th>time</th>\n",
       "      <th></th>\n",
       "      <th></th>\n",
       "      <th></th>\n",
       "      <th></th>\n",
       "    </tr>\n",
       "  </thead>\n",
       "  <tbody>\n",
       "    <tr>\n",
       "      <th>2022-09-01 00:00:00.013251840</th>\n",
       "      <td>0.48</td>\n",
       "      <td>-0.86</td>\n",
       "      <td>-0.30</td>\n",
       "      <td>10.83</td>\n",
       "    </tr>\n",
       "    <tr>\n",
       "      <th>2022-09-01 00:00:00.063205888</th>\n",
       "      <td>0.31</td>\n",
       "      <td>-1.22</td>\n",
       "      <td>0.32</td>\n",
       "      <td>10.86</td>\n",
       "    </tr>\n",
       "    <tr>\n",
       "      <th>2022-09-01 00:00:00.113248768</th>\n",
       "      <td>0.51</td>\n",
       "      <td>-0.98</td>\n",
       "      <td>-0.13</td>\n",
       "      <td>10.90</td>\n",
       "    </tr>\n",
       "    <tr>\n",
       "      <th>2022-09-01 00:00:00.163205376</th>\n",
       "      <td>0.23</td>\n",
       "      <td>-1.08</td>\n",
       "      <td>0.12</td>\n",
       "      <td>10.76</td>\n",
       "    </tr>\n",
       "    <tr>\n",
       "      <th>2022-09-01 00:00:00.213250560</th>\n",
       "      <td>0.10</td>\n",
       "      <td>-1.16</td>\n",
       "      <td>-0.12</td>\n",
       "      <td>10.93</td>\n",
       "    </tr>\n",
       "    <tr>\n",
       "      <th>...</th>\n",
       "      <td>...</td>\n",
       "      <td>...</td>\n",
       "      <td>...</td>\n",
       "      <td>...</td>\n",
       "    </tr>\n",
       "    <tr>\n",
       "      <th>2022-09-01 23:59:59.714225408</th>\n",
       "      <td>-0.12</td>\n",
       "      <td>0.01</td>\n",
       "      <td>-0.70</td>\n",
       "      <td>8.13</td>\n",
       "    </tr>\n",
       "    <tr>\n",
       "      <th>2022-09-01 23:59:59.764173312</th>\n",
       "      <td>0.25</td>\n",
       "      <td>0.03</td>\n",
       "      <td>-1.10</td>\n",
       "      <td>7.94</td>\n",
       "    </tr>\n",
       "    <tr>\n",
       "      <th>2022-09-01 23:59:59.814228224</th>\n",
       "      <td>0.49</td>\n",
       "      <td>-0.46</td>\n",
       "      <td>-0.56</td>\n",
       "      <td>8.01</td>\n",
       "    </tr>\n",
       "    <tr>\n",
       "      <th>2022-09-01 23:59:59.864176640</th>\n",
       "      <td>0.41</td>\n",
       "      <td>0.18</td>\n",
       "      <td>-0.87</td>\n",
       "      <td>8.03</td>\n",
       "    </tr>\n",
       "    <tr>\n",
       "      <th>2022-09-01 23:59:59.914230016</th>\n",
       "      <td>0.25</td>\n",
       "      <td>-0.50</td>\n",
       "      <td>-0.64</td>\n",
       "      <td>7.99</td>\n",
       "    </tr>\n",
       "  </tbody>\n",
       "</table>\n",
       "<p>1727554 rows × 4 columns</p>\n",
       "</div>"
      ],
      "text/plain": [
       "                                  u     v     w   temp\n",
       "time                                                  \n",
       "2022-09-01 00:00:00.013251840  0.48 -0.86 -0.30  10.83\n",
       "2022-09-01 00:00:00.063205888  0.31 -1.22  0.32  10.86\n",
       "2022-09-01 00:00:00.113248768  0.51 -0.98 -0.13  10.90\n",
       "2022-09-01 00:00:00.163205376  0.23 -1.08  0.12  10.76\n",
       "2022-09-01 00:00:00.213250560  0.10 -1.16 -0.12  10.93\n",
       "...                             ...   ...   ...    ...\n",
       "2022-09-01 23:59:59.714225408 -0.12  0.01 -0.70   8.13\n",
       "2022-09-01 23:59:59.764173312  0.25  0.03 -1.10   7.94\n",
       "2022-09-01 23:59:59.814228224  0.49 -0.46 -0.56   8.01\n",
       "2022-09-01 23:59:59.864176640  0.41  0.18 -0.87   8.03\n",
       "2022-09-01 23:59:59.914230016  0.25 -0.50 -0.64   7.99\n",
       "\n",
       "[1727554 rows x 4 columns]"
      ]
     },
     "execution_count": 4,
     "metadata": {},
     "output_type": "execute_result"
    }
   ],
   "source": [
    "data"
   ]
  },
  {
   "cell_type": "code",
   "execution_count": 7,
   "id": "d5ff4833",
   "metadata": {},
   "outputs": [
    {
     "data": {
      "text/plain": [
       "<pandas.core.resample.DatetimeIndexResampler object at 0x17a463910>"
      ]
     },
     "execution_count": 7,
     "metadata": {},
     "output_type": "execute_result"
    }
   ],
   "source": [
    "data.resample(\"20T\").mean()"
   ]
  },
  {
   "cell_type": "code",
   "execution_count": null,
   "id": "0c6a0e72",
   "metadata": {},
   "outputs": [],
   "source": []
  }
 ],
 "metadata": {
  "kernelspec": {
   "display_name": "Python 3 (ipykernel)",
   "language": "python",
   "name": "python3"
  },
  "language_info": {
   "codemirror_mode": {
    "name": "ipython",
    "version": 3
   },
   "file_extension": ".py",
   "mimetype": "text/x-python",
   "name": "python",
   "nbconvert_exporter": "python",
   "pygments_lexer": "ipython3",
   "version": "3.10.5"
  }
 },
 "nbformat": 4,
 "nbformat_minor": 5
}
